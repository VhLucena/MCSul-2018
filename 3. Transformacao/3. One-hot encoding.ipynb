{
 "cells": [
  {
   "cell_type": "markdown",
   "metadata": {},
   "source": [
    "## Objetivo:\n",
    "* Aplicar a técnica de codificação One-hot"
   ]
  },
  {
   "cell_type": "code",
   "execution_count": 4,
   "metadata": {},
   "outputs": [],
   "source": [
    "import pandas as pd"
   ]
  },
  {
   "cell_type": "markdown",
   "metadata": {},
   "source": [
    "### Aplicando OneHot\n",
    "- Oversampling"
   ]
  },
  {
   "cell_type": "code",
   "execution_count": 111,
   "metadata": {},
   "outputs": [],
   "source": [
    "df = pd.read_csv(\"../Database/2.Dados_PreProcessados/Round2_dados_OverSampling.csv\")"
   ]
  },
  {
   "cell_type": "code",
   "execution_count": 112,
   "metadata": {},
   "outputs": [],
   "source": [
    "# ACID_GRAVE = SIM ==> ACID_GRAVE = 1\n",
    "# ACID_GRAVE = NAO ==> ACID_GRAVE = 0\n",
    "    \n",
    "df['ACID_GRAVE'] = [1 if i == 'SIM' else 0 for i in df['ACID_GRAVE']]"
   ]
  },
  {
   "cell_type": "code",
   "execution_count": 113,
   "metadata": {},
   "outputs": [
    {
     "data": {
      "text/plain": [
       "(24098, 37)"
      ]
     },
     "execution_count": 113,
     "metadata": {},
     "output_type": "execute_result"
    }
   ],
   "source": [
    "df1 = pd.get_dummies(df.iloc[:,:2])\n",
    "df2 = pd.get_dummies(df.iloc[:,12:15])\n",
    "dfSemOneHot = df.iloc[:,2:12]\n",
    "\n",
    "dfOneHot = pd.concat([df1, dfSemOneHot, df2, df['ACID_GRAVE']], axis=1)\n",
    "dfOneHot.shape"
   ]
  },
  {
   "cell_type": "code",
   "execution_count": 79,
   "metadata": {},
   "outputs": [],
   "source": [
    "dfOneHot.to_csv(\"../Database/3.Dados_Transformados/Round2_dados_OverSampling_OneHot.csv\", index=False)"
   ]
  },
  {
   "cell_type": "markdown",
   "metadata": {},
   "source": [
    "----"
   ]
  },
  {
   "cell_type": "markdown",
   "metadata": {},
   "source": [
    "### Aplicando OneHot\n",
    "- Undersampling"
   ]
  },
  {
   "cell_type": "code",
   "execution_count": 117,
   "metadata": {},
   "outputs": [],
   "source": [
    "df = pd.read_csv(\"../Database/2.Dados_PreProcessados/Round2_dados_UnderSampling.csv\")"
   ]
  },
  {
   "cell_type": "code",
   "execution_count": 118,
   "metadata": {},
   "outputs": [],
   "source": [
    "# ACID_GRAVE = SIM ==> ACID_GRAVE = 1\n",
    "# ACID_GRAVE = NAO ==> ACID_GRAVE = 0\n",
    "    \n",
    "df['ACID_GRAVE'] = [1 if i == 'SIM' else 0 for i in df['ACID_GRAVE']]"
   ]
  },
  {
   "cell_type": "code",
   "execution_count": 119,
   "metadata": {},
   "outputs": [],
   "source": [
    "df1 = pd.get_dummies(df.iloc[:,:2])\n",
    "df2 = pd.get_dummies(df.iloc[:,12:15])\n",
    "dfSemOneHot = df.iloc[:,2:12]\n",
    "\n",
    "dfOneHot = pd.concat([df1, dfSemOneHot, df2, df['ACID_GRAVE']], axis=1)"
   ]
  },
  {
   "cell_type": "code",
   "execution_count": 120,
   "metadata": {},
   "outputs": [],
   "source": [
    "dfOneHot.to_csv(\"../Database/3.Dados_Transformados/Round2_dados_UnderSampling_OneHot.csv\", index=False)"
   ]
  },
  {
   "cell_type": "markdown",
   "metadata": {},
   "source": [
    "---"
   ]
  }
 ],
 "metadata": {
  "kernelspec": {
   "display_name": "Python 3",
   "language": "python",
   "name": "python3"
  },
  "language_info": {
   "codemirror_mode": {
    "name": "ipython",
    "version": 3
   },
   "file_extension": ".py",
   "mimetype": "text/x-python",
   "name": "python",
   "nbconvert_exporter": "python",
   "pygments_lexer": "ipython3",
   "version": "3.6.4"
  }
 },
 "nbformat": 4,
 "nbformat_minor": 2
}
