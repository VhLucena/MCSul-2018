{
 "cells": [
  {
   "cell_type": "markdown",
   "metadata": {},
   "source": [
    "# 1. Selecao"
   ]
  },
  {
   "cell_type": "markdown",
   "metadata": {},
   "source": [
    "## Objetivo:\n",
    "   * Selecionar os dados que farão parte do modelo"
   ]
  },
  {
   "cell_type": "code",
   "execution_count": 2,
   "metadata": {},
   "outputs": [],
   "source": [
    "import pandas as pd"
   ]
  },
  {
   "cell_type": "code",
   "execution_count": 3,
   "metadata": {},
   "outputs": [],
   "source": [
    "df = pd.read_csv(\"../Database/acidentes_2016.csv\", sep=\";\")"
   ]
  },
  {
   "cell_type": "code",
   "execution_count": 6,
   "metadata": {},
   "outputs": [
    {
     "name": "stdout",
     "output_type": "stream",
     "text": [
      "<class 'pandas.core.frame.DataFrame'>\n",
      "RangeIndex: 12515 entries, 0 to 12514\n",
      "Data columns (total 44 columns):\n",
      "ID            12515 non-null int64\n",
      "LONGITUDE     12515 non-null float64\n",
      "LATITUDE      12515 non-null float64\n",
      "LOG1          12515 non-null object\n",
      "LOG2          3997 non-null object\n",
      "PREDIAL1      12515 non-null int64\n",
      "LOCAL         12515 non-null object\n",
      "TIPO_ACID     12515 non-null object\n",
      "LOCAL_VIA     12515 non-null object\n",
      "QUEDA_ARR     12515 non-null int64\n",
      "DATA          12515 non-null object\n",
      "DATA_HORA     12515 non-null object\n",
      "DIA_SEM       12515 non-null object\n",
      "HORA          12512 non-null object\n",
      "FERIDOS       12515 non-null int64\n",
      "FERIDOS_GR    12515 non-null int64\n",
      "MORTES        12515 non-null int64\n",
      "MORTE_POST    12515 non-null int64\n",
      "FATAIS        12515 non-null int64\n",
      "AUTO          12515 non-null int64\n",
      "TAXI          12515 non-null int64\n",
      "LOTACAO       12515 non-null int64\n",
      "ONIBUS_URB    12515 non-null int64\n",
      "ONIBUS_MET    12515 non-null int64\n",
      "ONIBUS_INT    12515 non-null int64\n",
      "CAMINHAO      12515 non-null int64\n",
      "MOTO          12515 non-null int64\n",
      "CARROCA       12515 non-null int64\n",
      "BICICLETA     12515 non-null int64\n",
      "OUTRO         12515 non-null int64\n",
      "TEMPO         12515 non-null object\n",
      "NOITE_DIA     12512 non-null object\n",
      "FONTE         12515 non-null object\n",
      "BOLETIM       12515 non-null int64\n",
      "REGIAO        12515 non-null object\n",
      "DIA           12515 non-null int64\n",
      "MES           12515 non-null int64\n",
      "ANO           12515 non-null int64\n",
      "FX_HORA       12512 non-null float64\n",
      "CONT_ACID     12515 non-null int64\n",
      "CONT_VIT      12515 non-null int64\n",
      "UPS           12515 non-null int64\n",
      "CONSORCIO     775 non-null object\n",
      "CORREDOR      12515 non-null int64\n",
      "dtypes: float64(3), int64(27), object(14)\n",
      "memory usage: 4.2+ MB\n"
     ]
    }
   ],
   "source": [
    "df.info()"
   ]
  },
  {
   "cell_type": "code",
   "execution_count": 7,
   "metadata": {},
   "outputs": [],
   "source": [
    "df = df[['LOCAL', 'TIPO_ACID', 'AUTO', 'TAXI', 'LOTACAO', 'ONIBUS_URB', 'ONIBUS_MET', 'ONIBUS_INT', 'CAMINHAO', 'MOTO', 'CARROCA', 'BICICLETA', 'HORA', 'DIA_SEM', 'TEMPO', 'REGIAO', 'FATAIS', 'FERIDOS_GR']]"
   ]
  },
  {
   "cell_type": "code",
   "execution_count": 9,
   "metadata": {},
   "outputs": [],
   "source": [
    "df.to_csv(\"../Database/1.Dados_Selecionados/Round2_dados_selecionados.csv\", index=False)"
   ]
  },
  {
   "cell_type": "markdown",
   "metadata": {},
   "source": [
    "---"
   ]
  }
 ],
 "metadata": {
  "kernelspec": {
   "display_name": "Python 3",
   "language": "python",
   "name": "python3"
  },
  "language_info": {
   "codemirror_mode": {
    "name": "ipython",
    "version": 3
   },
   "file_extension": ".py",
   "mimetype": "text/x-python",
   "name": "python",
   "nbconvert_exporter": "python",
   "pygments_lexer": "ipython3",
   "version": "3.6.4"
  }
 },
 "nbformat": 4,
 "nbformat_minor": 2
}
